{
  "nbformat": 4,
  "nbformat_minor": 0,
  "metadata": {
    "colab": {
      "name": "final_project.ipynb",
      "provenance": [],
      "collapsed_sections": [],
      "authorship_tag": "ABX9TyOLMgAp6SJiu5BUFYRdhl6B",
      "include_colab_link": true
    },
    "kernelspec": {
      "name": "python3",
      "display_name": "Python 3"
    }
  },
  "cells": [
    {
      "cell_type": "markdown",
      "metadata": {
        "id": "view-in-github",
        "colab_type": "text"
      },
      "source": [
        "<a href=\"https://colab.research.google.com/github/damoon843/Blink-1470/blob/main/scripts/final_project.ipynb\" target=\"_parent\"><img src=\"https://colab.research.google.com/assets/colab-badge.svg\" alt=\"Open In Colab\"/></a>"
      ]
    },
    {
      "cell_type": "code",
      "metadata": {
        "id": "4_ZPgEqCtail",
        "outputId": "eb30f6e5-dbe3-4022-922c-e6a69344499b",
        "colab": {
          "base_uri": "https://localhost:8080/",
          "height": 38
        }
      },
      "source": [
        "%%html\n",
        "<marquee style='width: 30%; color: blue;'><b>Sound of Music!</b></marquee>"
      ],
      "execution_count": null,
      "outputs": [
        {
          "output_type": "display_data",
          "data": {
            "text/html": [
              "<marquee style='width: 30%; color: blue;'><b>Sound of Music!</b></marquee>"
            ],
            "text/plain": [
              "<IPython.core.display.HTML object>"
            ]
          },
          "metadata": {
            "tags": []
          }
        }
      ]
    },
    {
      "cell_type": "markdown",
      "metadata": {
        "id": "QvBTHItXKHBW"
      },
      "source": [
        "**Drive & Github & Colab Integration Workflow:**\n",
        "  \n",
        "  Drive: mount project repo in shared folder to and access files within repo (must keep shared folder directly below 'My Drive')  \n",
        "\n",
        "  Github: version control scripts and store data  \n",
        "  \n",
        "  Colab: use free GPU access provided by Google to define runtime environment"
      ]
    },
    {
      "cell_type": "code",
      "metadata": {
        "id": "7pbyXrMxt-EA",
        "outputId": "443c5de4-600e-49e5-9072-9c84444fc89d",
        "colab": {
          "base_uri": "https://localhost:8080/"
        }
      },
      "source": [
        "# Mount shared folder\n",
        "from google.colab import drive\n",
        "drive.mount('/content/drive', force_remount=True)"
      ],
      "execution_count": null,
      "outputs": [
        {
          "output_type": "stream",
          "text": [
            "Mounted at /content/drive\n"
          ],
          "name": "stdout"
        }
      ]
    },
    {
      "cell_type": "code",
      "metadata": {
        "id": "RhC-eea62Cea",
        "outputId": "ce6b53a8-8dfb-4bc7-a7ee-9390d2136b81",
        "colab": {
          "base_uri": "https://localhost:8080/",
          "height": 35
        }
      },
      "source": [
        "\"\"\"\n",
        "NOTE: only run this once. To run multiple times, Runtime -> Restart runtime\n",
        "\"\"\"\n",
        "# %cd /content/drive/My Drive/CS1470 Final Project\n",
        "# !git clone https://github.com/damoon843/Blink-1470.git\n",
        "\n",
        "\"\"\"\n",
        "NOTE: uncomment to pull latest changes from remote repo\n",
        "\"\"\"\n",
        "# %cd /content/drive/My Drive/CS1470 Final Project/Blink-1470\n",
        "# !git checkout main\n",
        "# !git pull\n",
        "\n",
        "\"\"\"\n",
        "NOTE: to push changes, File -> Save as Copy in Github (under 'scripts' folder)\n",
        "\"\"\""
      ],
      "execution_count": 91,
      "outputs": [
        {
          "output_type": "execute_result",
          "data": {
            "application/vnd.google.colaboratory.intrinsic+json": {
              "type": "string"
            },
            "text/plain": [
              "'\\nNOTE: uncomment to pull latest changes from remote repo\\n'"
            ]
          },
          "metadata": {
            "tags": []
          },
          "execution_count": 91
        }
      ]
    },
    {
      "cell_type": "markdown",
      "metadata": {
        "id": "HBxaSyeCTUhC"
      },
      "source": [
        "**Preprocess**"
      ]
    },
    {
      "cell_type": "code",
      "metadata": {
        "id": "RW50KOh93AJv",
        "outputId": "835eb5ba-580e-4521-d5d8-5b25912ed031",
        "colab": {
          "base_uri": "https://localhost:8080/"
        }
      },
      "source": [
        "# Run preprocess script\n",
        "%cd /content/drive/My Drive/CS1470 Final Project/Blink-1470/scripts\n",
        "from test import *\n",
        "\n",
        "train_data = !python3 test.py\n",
        "print(train_data)"
      ],
      "execution_count": 96,
      "outputs": [
        {
          "output_type": "stream",
          "text": [
            "/content/drive/My Drive/CS1470 Final Project/Blink-1470/scripts\n",
            "['[1, 2, 3, 4]']\n"
          ],
          "name": "stdout"
        }
      ]
    },
    {
      "cell_type": "markdown",
      "metadata": {
        "id": "b7ZdlCZBTZR9"
      },
      "source": [
        "**Model**"
      ]
    },
    {
      "cell_type": "code",
      "metadata": {
        "id": "sk877YP6Tset"
      },
      "source": [
        "# Import necessary libraries\n",
        "import numpy as np\n",
        "import tensorflow as tf"
      ],
      "execution_count": 97,
      "outputs": []
    },
    {
      "cell_type": "code",
      "metadata": {
        "id": "hTsNAi6n-kL9"
      },
      "source": [
        "# Import necessary modules \n",
        "\n",
        "# Build model\n"
      ],
      "execution_count": 99,
      "outputs": []
    }
  ]
}